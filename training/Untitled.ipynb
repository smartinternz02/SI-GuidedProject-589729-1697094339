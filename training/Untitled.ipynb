{
 "cells": [
  {
   "cell_type": "code",
   "execution_count": 16,
   "id": "2e33ded4-a395-4ed7-a5a2-1e59944a36a8",
   "metadata": {
    "tags": []
   },
   "outputs": [],
   "source": [
    "from tensorflow.keras.models import load_model\n",
    "from tensorflow.keras.preprocessing import image\n",
    "from tensorflow.keras.applications.inception_v3 import preprocess_input\n",
    "import numpy as np\n",
    "model = load_model('vgg-16-nail-disease.h5')"
   ]
  },
  {
   "cell_type": "code",
   "execution_count": 27,
   "id": "94ab5379-a38e-458d-95bd-2be94bf0d8ee",
   "metadata": {
    "tags": []
   },
   "outputs": [],
   "source": [
    "img = image.load_img(r'40.PNG',target_size=(224,224))"
   ]
  },
  {
   "cell_type": "code",
   "execution_count": 28,
   "id": "4d4450f7-867d-494c-b378-9fc9f18d4132",
   "metadata": {
    "tags": []
   },
   "outputs": [],
   "source": [
    "x = image.img_to_array(img)\n",
    "x = x.reshape(1,224,224,3)"
   ]
  },
  {
   "cell_type": "code",
   "execution_count": 29,
   "id": "9904b805-eb97-4387-b379-40824c4126ef",
   "metadata": {
    "tags": []
   },
   "outputs": [
    {
     "name": "stdout",
     "output_type": "stream",
     "text": [
      "1/1 [==============================] - 0s 144ms/step\n"
     ]
    },
    {
     "data": {
      "text/plain": [
       "'koilonychia'"
      ]
     },
     "execution_count": 29,
     "metadata": {},
     "output_type": "execute_result"
    }
   ],
   "source": [
    "output = np.argmax(model.predict(x),axis=1)\n",
    "\n",
    "index=['Darier_s disease', 'Muehrck-e_s lines', 'aloperia areata', 'beau_s lines', \n",
    "'bluish nail','clubbing', 'eczema', 'half and half nailes (Lindsay_s nails)', \n",
    "'koilonychia', 'leukonychia','onycholycis', 'pale nail', 'red lunula', \n",
    "'splinter hemmorrage', 'terry_s nail', 'white nail', 'yellow nails']\n",
    "result = str(index[output[0]])\n",
    "result"
   ]
  },
  {
   "cell_type": "code",
   "execution_count": null,
   "id": "888b042d-7b77-4f47-835a-f4530ff68a3b",
   "metadata": {},
   "outputs": [],
   "source": []
  }
 ],
 "metadata": {
  "kernelspec": {
   "display_name": "Python 3 (ipykernel)",
   "language": "python",
   "name": "python3"
  },
  "language_info": {
   "codemirror_mode": {
    "name": "ipython",
    "version": 3
   },
   "file_extension": ".py",
   "mimetype": "text/x-python",
   "name": "python",
   "nbconvert_exporter": "python",
   "pygments_lexer": "ipython3",
   "version": "3.10.13"
  }
 },
 "nbformat": 4,
 "nbformat_minor": 5
}
