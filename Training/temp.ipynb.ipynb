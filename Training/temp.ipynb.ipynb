{
 "cells": [
  {
   "cell_type": "code",
   "execution_count": 2,
   "id": "397b02c4",
   "metadata": {
    "tags": []
   },
   "outputs": [],
   "source": [
    "from tensorflow.keras.layers import Dense,Flatten,Input\n",
    "from tensorflow.keras.models import Model\n",
    "from tensorflow.keras.preprocessing import image\n",
    "from tensorflow.keras.preprocessing.image import ImageDataGenerator,load_img\n",
    "from tensorflow.keras.applications.vgg16 import VGG16,preprocess_input\n",
    "from glob import glob\n",
    "import numpy as np\n",
    "import matplotlib.pyplot as plt"
   ]
  },
  {
   "cell_type": "code",
   "execution_count": 3,
   "id": "4f82d40f",
   "metadata": {
    "tags": []
   },
   "outputs": [],
   "source": [
    "#re-size all the images to this\n",
    "imageSize = [224, 224]\n",
    "\n",
    "train_path = 'train'\n",
    "valid_path = 'test'"
   ]
  },
  {
   "cell_type": "code",
   "execution_count": 4,
   "id": "e0bdafad",
   "metadata": {
    "tags": []
   },
   "outputs": [],
   "source": [
    "# adding preprocessing Layers to the front of vgg\n",
    "vgg = VGG16(input_shape=imageSize + [3], weights='imagenet',include_top=False)"
   ]
  },
  {
   "cell_type": "code",
   "execution_count": 5,
   "id": "45fc962b",
   "metadata": {
    "tags": []
   },
   "outputs": [],
   "source": [
    "for layer in vgg.layers:\n",
    "    layer.trainable=False\n",
    "x=Flatten()(vgg.output)"
   ]
  },
  {
   "cell_type": "code",
   "execution_count": 6,
   "id": "ddf2c214",
   "metadata": {
    "tags": []
   },
   "outputs": [],
   "source": [
    "prediction=Dense(17,activation='softmax')(x)\n"
   ]
  },
  {
   "cell_type": "code",
   "execution_count": 7,
   "id": "a8d5fdfd",
   "metadata": {
    "tags": []
   },
   "outputs": [],
   "source": [
    "model=Model(inputs=vgg.input,outputs=prediction)"
   ]
  },
  {
   "cell_type": "code",
   "execution_count": 8,
   "id": "7f447c7f",
   "metadata": {
    "tags": []
   },
   "outputs": [
    {
     "name": "stdout",
     "output_type": "stream",
     "text": [
      "Model: \"model\"\n",
      "_________________________________________________________________\n",
      " Layer (type)                Output Shape              Param #   \n",
      "=================================================================\n",
      " input_1 (InputLayer)        [(None, 224, 224, 3)]     0         \n",
      "                                                                 \n",
      " block1_conv1 (Conv2D)       (None, 224, 224, 64)      1792      \n",
      "                                                                 \n",
      " block1_conv2 (Conv2D)       (None, 224, 224, 64)      36928     \n",
      "                                                                 \n",
      " block1_pool (MaxPooling2D)  (None, 112, 112, 64)      0         \n",
      "                                                                 \n",
      " block2_conv1 (Conv2D)       (None, 112, 112, 128)     73856     \n",
      "                                                                 \n",
      " block2_conv2 (Conv2D)       (None, 112, 112, 128)     147584    \n",
      "                                                                 \n",
      " block2_pool (MaxPooling2D)  (None, 56, 56, 128)       0         \n",
      "                                                                 \n",
      " block3_conv1 (Conv2D)       (None, 56, 56, 256)       295168    \n",
      "                                                                 \n",
      " block3_conv2 (Conv2D)       (None, 56, 56, 256)       590080    \n",
      "                                                                 \n",
      " block3_conv3 (Conv2D)       (None, 56, 56, 256)       590080    \n",
      "                                                                 \n",
      " block3_pool (MaxPooling2D)  (None, 28, 28, 256)       0         \n",
      "                                                                 \n",
      " block4_conv1 (Conv2D)       (None, 28, 28, 512)       1180160   \n",
      "                                                                 \n",
      " block4_conv2 (Conv2D)       (None, 28, 28, 512)       2359808   \n",
      "                                                                 \n",
      " block4_conv3 (Conv2D)       (None, 28, 28, 512)       2359808   \n",
      "                                                                 \n",
      " block4_pool (MaxPooling2D)  (None, 14, 14, 512)       0         \n",
      "                                                                 \n",
      " block5_conv1 (Conv2D)       (None, 14, 14, 512)       2359808   \n",
      "                                                                 \n",
      " block5_conv2 (Conv2D)       (None, 14, 14, 512)       2359808   \n",
      "                                                                 \n",
      " block5_conv3 (Conv2D)       (None, 14, 14, 512)       2359808   \n",
      "                                                                 \n",
      " block5_pool (MaxPooling2D)  (None, 7, 7, 512)         0         \n",
      "                                                                 \n",
      " flatten (Flatten)           (None, 25088)             0         \n",
      "                                                                 \n",
      " dense (Dense)               (None, 17)                426513    \n",
      "                                                                 \n",
      "=================================================================\n",
      "Total params: 15,141,201\n",
      "Trainable params: 426,513\n",
      "Non-trainable params: 14,714,688\n",
      "_________________________________________________________________\n"
     ]
    }
   ],
   "source": [
    "model.summary()"
   ]
  },
  {
   "cell_type": "code",
   "execution_count": 9,
   "id": "45faa4f3",
   "metadata": {
    "tags": []
   },
   "outputs": [],
   "source": [
    "model.compile(\n",
    "loss='categorical_crossentropy',\n",
    "    optimizer='adam',\n",
    "metrics=['accuracy'],run_eagerly=True)"
   ]
  },
  {
   "cell_type": "code",
   "execution_count": 10,
   "id": "1196fa82",
   "metadata": {
    "tags": []
   },
   "outputs": [],
   "source": [
    "train_datagen=ImageDataGenerator(rescale=1./255,\n",
    "                                shear_range=0.2,\n",
    "                                zoom_range=0.2,\n",
    "                                horizontal_flip=True)\n",
    "test_datagen=ImageDataGenerator(rescale=1./255)"
   ]
  },
  {
   "cell_type": "code",
   "execution_count": 11,
   "id": "551161de",
   "metadata": {
    "tags": []
   },
   "outputs": [
    {
     "name": "stdout",
     "output_type": "stream",
     "text": [
      "Found 655 images belonging to 17 classes.\n",
      "Found 183 images belonging to 17 classes.\n"
     ]
    }
   ],
   "source": [
    "training_set=train_datagen.flow_from_directory(train_path,\n",
    "                                              target_size=(224,224),\n",
    "                                              batch_size=32,\n",
    "                                              class_mode='categorical')\n",
    "test_set=test_datagen.flow_from_directory(valid_path,\n",
    "                                         target_size=(224,224),\n",
    "                                         batch_size=32,\n",
    "                                         class_mode='categorical')t"
   ]
  },
  {
   "cell_type": "code",
   "execution_count": 12,
   "id": "0e20e69d",
   "metadata": {
    "tags": []
   },
   "outputs": [
    {
     "data": {
      "text/plain": [
       "{'Darier_s disease': 0,\n",
       " 'Muehrck-e_s lines': 1,\n",
       " 'aloperia areata': 2,\n",
       " 'beau_s lines': 3,\n",
       " 'bluish nail': 4,\n",
       " 'clubbing': 5,\n",
       " 'eczema': 6,\n",
       " 'half and half nailes (Lindsay_s nails)': 7,\n",
       " 'koilonychia': 8,\n",
       " 'leukonychia': 9,\n",
       " 'onycholycis': 10,\n",
       " 'pale nail': 11,\n",
       " 'red lunula': 12,\n",
       " 'splinter hemmorrage': 13,\n",
       " 'terry_s nail': 14,\n",
       " 'white nail': 15,\n",
       " 'yellow nails': 16}"
      ]
     },
     "execution_count": 12,
     "metadata": {},
     "output_type": "execute_result"
    }
   ],
   "source": [
    "training_set.class_indices"
   ]
  },
  {
   "cell_type": "code",
   "execution_count": 15,
   "id": "4d771395",
   "metadata": {
    "tags": []
   },
   "outputs": [
    {
     "name": "stdout",
     "output_type": "stream",
     "text": [
      "Found 655 images belonging to 17 classes.\n",
      "Found 183 images belonging to 17 classes.\n",
      "Epoch 1/100\n",
      "7/7 [==============================] - 234s 30s/step - loss: 3.3060 - accuracy: 0.1401 - val_loss: 3.0256 - val_accuracy: 0.1250\n",
      "Epoch 2/100\n",
      "7/7 [==============================] - 184s 27s/step - loss: 2.8714 - accuracy: 0.2232 - val_loss: 2.5144 - val_accuracy: 0.2188\n",
      "Epoch 3/100\n",
      "7/7 [==============================] - 169s 24s/step - loss: 2.5026 - accuracy: 0.2802 - val_loss: 2.0834 - val_accuracy: 0.3594\n",
      "Epoch 4/100\n",
      "7/7 [==============================] - 213s 31s/step - loss: 2.2788 - accuracy: 0.3527 - val_loss: 2.3035 - val_accuracy: 0.3594\n",
      "Epoch 5/100\n",
      "7/7 [==============================] - 190s 27s/step - loss: 1.8377 - accuracy: 0.4464 - val_loss: 1.6384 - val_accuracy: 0.5312\n",
      "Epoch 6/100\n",
      "7/7 [==============================] - 168s 24s/step - loss: 1.7040 - accuracy: 0.4928 - val_loss: 1.7214 - val_accuracy: 0.4844\n",
      "Epoch 7/100\n",
      "7/7 [==============================] - 156s 22s/step - loss: 1.5149 - accuracy: 0.5362 - val_loss: 1.4423 - val_accuracy: 0.5469\n",
      "Epoch 8/100\n",
      "7/7 [==============================] - 169s 24s/step - loss: 1.2602 - accuracy: 0.6295 - val_loss: 1.4180 - val_accuracy: 0.6719\n",
      "Epoch 9/100\n",
      "7/7 [==============================] - 175s 25s/step - loss: 1.2161 - accuracy: 0.7009 - val_loss: 1.0314 - val_accuracy: 0.7031\n",
      "Epoch 10/100\n",
      "7/7 [==============================] - 161s 23s/step - loss: 1.2328 - accuracy: 0.6715 - val_loss: 0.9852 - val_accuracy: 0.8750\n",
      "Epoch 11/100\n",
      "7/7 [==============================] - 148s 21s/step - loss: 1.0838 - accuracy: 0.6875 - val_loss: 1.1756 - val_accuracy: 0.6562\n",
      "Epoch 12/100\n",
      "7/7 [==============================] - 151s 22s/step - loss: 1.0797 - accuracy: 0.7366 - val_loss: 0.8847 - val_accuracy: 0.7500\n",
      "Epoch 13/100\n",
      "7/7 [==============================] - 150s 22s/step - loss: 0.9403 - accuracy: 0.7634 - val_loss: 0.7677 - val_accuracy: 0.8594\n",
      "Epoch 14/100\n",
      "7/7 [==============================] - 150s 22s/step - loss: 0.7499 - accuracy: 0.8661 - val_loss: 0.7586 - val_accuracy: 0.9219\n",
      "Epoch 15/100\n",
      "7/7 [==============================] - 187s 26s/step - loss: 0.7505 - accuracy: 0.8750 - val_loss: 0.8073 - val_accuracy: 0.8750\n",
      "Epoch 16/100\n",
      "7/7 [==============================] - 175s 25s/step - loss: 0.6715 - accuracy: 0.8599 - val_loss: 0.6261 - val_accuracy: 0.9062\n",
      "Epoch 17/100\n",
      "7/7 [==============================] - 174s 27s/step - loss: 0.6199 - accuracy: 0.9227 - val_loss: 0.7683 - val_accuracy: 0.8594\n",
      "Epoch 18/100\n",
      "7/7 [==============================] - 179s 26s/step - loss: 0.6272 - accuracy: 0.8527 - val_loss: 0.6809 - val_accuracy: 0.7969\n",
      "Epoch 19/100\n",
      "7/7 [==============================] - 178s 26s/step - loss: 0.7104 - accuracy: 0.8482 - val_loss: 0.6411 - val_accuracy: 0.8906\n",
      "Epoch 20/100\n",
      "7/7 [==============================] - 193s 28s/step - loss: 0.6054 - accuracy: 0.8750 - val_loss: 0.6662 - val_accuracy: 0.8594\n",
      "Epoch 21/100\n",
      "7/7 [==============================] - 223s 32s/step - loss: 0.5574 - accuracy: 0.9241 - val_loss: 0.5757 - val_accuracy: 0.9062\n",
      "Epoch 22/100\n",
      "7/7 [==============================] - 208s 29s/step - loss: 0.4821 - accuracy: 0.9286 - val_loss: 0.6004 - val_accuracy: 0.8906\n",
      "Epoch 23/100\n",
      "7/7 [==============================] - 193s 28s/step - loss: 0.5347 - accuracy: 0.8973 - val_loss: 0.5068 - val_accuracy: 0.9062\n",
      "Epoch 24/100\n",
      "7/7 [==============================] - 199s 29s/step - loss: 0.4279 - accuracy: 0.9464 - val_loss: 0.4008 - val_accuracy: 0.9688\n",
      "Epoch 25/100\n",
      "7/7 [==============================] - 199s 29s/step - loss: 0.4168 - accuracy: 0.9324 - val_loss: 0.4424 - val_accuracy: 0.9688\n",
      "Epoch 26/100\n",
      "7/7 [==============================] - 214s 31s/step - loss: 0.4015 - accuracy: 0.9330 - val_loss: 0.2768 - val_accuracy: 0.9844\n",
      "Epoch 27/100\n",
      "7/7 [==============================] - 203s 29s/step - loss: 0.4057 - accuracy: 0.9286 - val_loss: 0.4116 - val_accuracy: 0.9375\n",
      "Epoch 28/100\n",
      "7/7 [==============================] - 199s 29s/step - loss: 0.4519 - accuracy: 0.9152 - val_loss: 0.3598 - val_accuracy: 0.9844\n",
      "Epoch 29/100\n",
      "7/7 [==============================] - 203s 29s/step - loss: 0.3493 - accuracy: 0.9517 - val_loss: 0.3619 - val_accuracy: 0.9688\n",
      "Epoch 30/100\n",
      "7/7 [==============================] - 195s 27s/step - loss: 0.3051 - accuracy: 0.9855 - val_loss: 0.2858 - val_accuracy: 0.9688\n",
      "Epoch 31/100\n",
      "7/7 [==============================] - 218s 32s/step - loss: 0.2969 - accuracy: 0.9643 - val_loss: 0.3789 - val_accuracy: 0.9375\n",
      "Epoch 32/100\n",
      "7/7 [==============================] - 194s 28s/step - loss: 0.2816 - accuracy: 0.9758 - val_loss: 0.2229 - val_accuracy: 0.9844\n",
      "Epoch 33/100\n",
      "7/7 [==============================] - 177s 25s/step - loss: 0.2678 - accuracy: 0.9710 - val_loss: 0.3103 - val_accuracy: 0.9375\n",
      "Epoch 34/100\n",
      "7/7 [==============================] - 267s 39s/step - loss: 0.2838 - accuracy: 0.9732 - val_loss: 0.1533 - val_accuracy: 1.0000\n",
      "Epoch 35/100\n",
      "7/7 [==============================] - 211s 30s/step - loss: 0.3047 - accuracy: 0.9614 - val_loss: 0.2604 - val_accuracy: 0.9844\n",
      "Epoch 36/100\n",
      "7/7 [==============================] - 179s 25s/step - loss: 0.2467 - accuracy: 0.9758 - val_loss: 0.2770 - val_accuracy: 0.9531\n",
      "Epoch 37/100\n",
      "7/7 [==============================] - 186s 27s/step - loss: 0.2605 - accuracy: 0.9598 - val_loss: 0.2441 - val_accuracy: 1.0000\n",
      "Epoch 38/100\n",
      "7/7 [==============================] - 184s 29s/step - loss: 0.2551 - accuracy: 0.9855 - val_loss: 0.2552 - val_accuracy: 1.0000\n",
      "Epoch 39/100\n",
      "7/7 [==============================] - 198s 29s/step - loss: 0.2395 - accuracy: 0.9955 - val_loss: 0.2436 - val_accuracy: 0.9844\n",
      "Epoch 40/100\n",
      "7/7 [==============================] - 200s 30s/step - loss: 0.2100 - accuracy: 0.9866 - val_loss: 0.1897 - val_accuracy: 1.0000\n",
      "Epoch 41/100\n",
      "7/7 [==============================] - 185s 26s/step - loss: 0.1723 - accuracy: 1.0000 - val_loss: 0.1715 - val_accuracy: 0.9844\n",
      "Epoch 42/100\n",
      "7/7 [==============================] - 216s 32s/step - loss: 0.1601 - accuracy: 1.0000 - val_loss: 0.1860 - val_accuracy: 0.9844\n",
      "Epoch 43/100\n",
      "7/7 [==============================] - 235s 34s/step - loss: 0.1803 - accuracy: 0.9821 - val_loss: 0.1730 - val_accuracy: 0.9844\n",
      "Epoch 44/100\n",
      "7/7 [==============================] - 206s 30s/step - loss: 0.1619 - accuracy: 0.9952 - val_loss: 0.1895 - val_accuracy: 0.9844\n",
      "Epoch 45/100\n",
      "7/7 [==============================] - 194s 27s/step - loss: 0.1555 - accuracy: 0.9903 - val_loss: 0.1989 - val_accuracy: 0.9688\n",
      "Epoch 46/100\n",
      "7/7 [==============================] - 222s 32s/step - loss: 0.1718 - accuracy: 0.9866 - val_loss: 0.1978 - val_accuracy: 1.0000\n",
      "Epoch 47/100\n",
      "7/7 [==============================] - 258s 36s/step - loss: 0.1399 - accuracy: 1.0000 - val_loss: 0.1081 - val_accuracy: 1.0000\n",
      "Epoch 48/100\n",
      "7/7 [==============================] - 178s 26s/step - loss: 0.1594 - accuracy: 0.9911 - val_loss: 0.1478 - val_accuracy: 1.0000\n",
      "Epoch 49/100\n",
      "7/7 [==============================] - 194s 28s/step - loss: 0.1613 - accuracy: 1.0000 - val_loss: 0.1728 - val_accuracy: 1.0000\n",
      "Epoch 50/100\n",
      "7/7 [==============================] - 196s 29s/step - loss: 0.1469 - accuracy: 0.9866 - val_loss: 0.1150 - val_accuracy: 1.0000\n",
      "Epoch 51/100\n",
      "7/7 [==============================] - 183s 26s/step - loss: 0.1517 - accuracy: 0.9955 - val_loss: 0.1105 - val_accuracy: 1.0000\n",
      "Epoch 52/100\n",
      "7/7 [==============================] - 195s 27s/step - loss: 0.1198 - accuracy: 1.0000 - val_loss: 0.1986 - val_accuracy: 1.0000\n",
      "Epoch 53/100\n",
      "7/7 [==============================] - 170s 24s/step - loss: 0.1336 - accuracy: 0.9903 - val_loss: 0.1312 - val_accuracy: 1.0000\n",
      "Epoch 54/100\n",
      "7/7 [==============================] - 191s 28s/step - loss: 0.1157 - accuracy: 1.0000 - val_loss: 0.1167 - val_accuracy: 1.0000\n",
      "Epoch 55/100\n",
      "7/7 [==============================] - 210s 30s/step - loss: 0.1261 - accuracy: 0.9807 - val_loss: 0.1222 - val_accuracy: 1.0000\n",
      "Epoch 56/100\n",
      "7/7 [==============================] - 214s 31s/step - loss: 0.1164 - accuracy: 1.0000 - val_loss: 0.1208 - val_accuracy: 1.0000\n",
      "Epoch 57/100\n",
      "7/7 [==============================] - 206s 29s/step - loss: 0.1513 - accuracy: 0.9911 - val_loss: 0.1246 - val_accuracy: 1.0000\n",
      "Epoch 58/100\n",
      "7/7 [==============================] - 206s 29s/step - loss: 0.1246 - accuracy: 0.9955 - val_loss: 0.1909 - val_accuracy: 0.9688\n",
      "Epoch 59/100\n",
      "7/7 [==============================] - 229s 33s/step - loss: 0.1122 - accuracy: 1.0000 - val_loss: 0.1075 - val_accuracy: 1.0000\n",
      "Epoch 60/100\n",
      "7/7 [==============================] - 226s 32s/step - loss: 0.1246 - accuracy: 1.0000 - val_loss: 0.1228 - val_accuracy: 1.0000\n",
      "Epoch 61/100\n",
      "7/7 [==============================] - 250s 36s/step - loss: 0.1303 - accuracy: 0.9911 - val_loss: 0.1482 - val_accuracy: 0.9844\n",
      "Epoch 62/100\n",
      "7/7 [==============================] - 240s 35s/step - loss: 0.1066 - accuracy: 1.0000 - val_loss: 0.0743 - val_accuracy: 1.0000\n",
      "Epoch 63/100\n",
      "7/7 [==============================] - 222s 31s/step - loss: 0.0920 - accuracy: 1.0000 - val_loss: 0.0962 - val_accuracy: 1.0000\n",
      "Epoch 64/100\n",
      "7/7 [==============================] - 209s 29s/step - loss: 0.1072 - accuracy: 0.9952 - val_loss: 0.1512 - val_accuracy: 0.9844\n",
      "Epoch 65/100\n",
      "7/7 [==============================] - 228s 33s/step - loss: 0.0957 - accuracy: 1.0000 - val_loss: 0.1023 - val_accuracy: 1.0000\n",
      "Epoch 66/100\n",
      "7/7 [==============================] - 215s 31s/step - loss: 0.0977 - accuracy: 1.0000 - val_loss: 0.0977 - val_accuracy: 1.0000\n",
      "Epoch 67/100\n",
      "7/7 [==============================] - 208s 29s/step - loss: 0.0825 - accuracy: 1.0000 - val_loss: 0.0916 - val_accuracy: 1.0000\n",
      "Epoch 68/100\n",
      "7/7 [==============================] - 240s 33s/step - loss: 0.0745 - accuracy: 1.0000 - val_loss: 0.0891 - val_accuracy: 1.0000\n",
      "Epoch 69/100\n",
      "7/7 [==============================] - 230s 33s/step - loss: 0.0757 - accuracy: 1.0000 - val_loss: 0.0937 - val_accuracy: 0.9844\n",
      "Epoch 70/100\n",
      "7/7 [==============================] - 227s 33s/step - loss: 0.0948 - accuracy: 0.9911 - val_loss: 0.0957 - val_accuracy: 1.0000\n",
      "Epoch 71/100\n",
      "7/7 [==============================] - 366s 53s/step - loss: 0.0832 - accuracy: 1.0000 - val_loss: 0.0748 - val_accuracy: 1.0000\n",
      "Epoch 72/100\n",
      "7/7 [==============================] - 357s 52s/step - loss: 0.0707 - accuracy: 1.0000 - val_loss: 0.0986 - val_accuracy: 1.0000\n",
      "Epoch 73/100\n",
      "7/7 [==============================] - 317s 45s/step - loss: 0.0727 - accuracy: 1.0000 - val_loss: 0.1081 - val_accuracy: 0.9844\n",
      "Epoch 74/100\n",
      "7/7 [==============================] - 362s 52s/step - loss: 0.0719 - accuracy: 0.9955 - val_loss: 0.0627 - val_accuracy: 1.0000\n",
      "Epoch 75/100\n",
      "7/7 [==============================] - 354s 51s/step - loss: 0.0798 - accuracy: 1.0000 - val_loss: 0.0733 - val_accuracy: 1.0000\n",
      "Epoch 76/100\n",
      "7/7 [==============================] - 340s 48s/step - loss: 0.0819 - accuracy: 1.0000 - val_loss: 0.1000 - val_accuracy: 1.0000\n",
      "Epoch 77/100\n",
      "7/7 [==============================] - 312s 44s/step - loss: 0.0612 - accuracy: 1.0000 - val_loss: 0.0772 - val_accuracy: 1.0000\n",
      "Epoch 78/100\n",
      "7/7 [==============================] - 209s 30s/step - loss: 0.0590 - accuracy: 1.0000 - val_loss: 0.0486 - val_accuracy: 1.0000\n",
      "Epoch 79/100\n",
      "7/7 [==============================] - 225s 33s/step - loss: 0.0636 - accuracy: 1.0000 - val_loss: 0.0689 - val_accuracy: 1.0000\n",
      "Epoch 80/100\n",
      "7/7 [==============================] - 228s 34s/step - loss: 0.0691 - accuracy: 1.0000 - val_loss: 0.0660 - val_accuracy: 1.0000\n",
      "Epoch 81/100\n",
      "7/7 [==============================] - 237s 34s/step - loss: 0.0583 - accuracy: 1.0000 - val_loss: 0.0664 - val_accuracy: 1.0000\n",
      "Epoch 82/100\n",
      "7/7 [==============================] - 252s 36s/step - loss: 0.0548 - accuracy: 1.0000 - val_loss: 0.0557 - val_accuracy: 1.0000\n",
      "Epoch 83/100\n",
      "7/7 [==============================] - 258s 36s/step - loss: 0.0574 - accuracy: 1.0000 - val_loss: 0.0486 - val_accuracy: 1.0000\n",
      "Epoch 84/100\n",
      "7/7 [==============================] - 201s 28s/step - loss: 0.0583 - accuracy: 1.0000 - val_loss: 0.0571 - val_accuracy: 1.0000\n",
      "Epoch 85/100\n",
      "7/7 [==============================] - 202s 29s/step - loss: 0.0506 - accuracy: 1.0000 - val_loss: 0.0680 - val_accuracy: 1.0000\n",
      "Epoch 86/100\n",
      "7/7 [==============================] - 219s 32s/step - loss: 0.0672 - accuracy: 1.0000 - val_loss: 0.0535 - val_accuracy: 1.0000\n",
      "Epoch 87/100\n",
      "7/7 [==============================] - 245s 36s/step - loss: 0.0557 - accuracy: 1.0000 - val_loss: 0.0769 - val_accuracy: 0.9844\n",
      "Epoch 88/100\n",
      "7/7 [==============================] - 193s 26s/step - loss: 0.0524 - accuracy: 1.0000 - val_loss: 0.0763 - val_accuracy: 1.0000\n",
      "Epoch 89/100\n",
      "7/7 [==============================] - 175s 25s/step - loss: 0.0546 - accuracy: 1.0000 - val_loss: 0.0648 - val_accuracy: 1.0000\n",
      "Epoch 90/100\n",
      "7/7 [==============================] - 148s 23s/step - loss: 0.0418 - accuracy: 1.0000 - val_loss: 0.0659 - val_accuracy: 1.0000\n",
      "Epoch 91/100\n",
      "7/7 [==============================] - 156s 23s/step - loss: 0.0596 - accuracy: 1.0000 - val_loss: 0.0720 - val_accuracy: 1.0000\n",
      "Epoch 92/100\n",
      "7/7 [==============================] - 146s 21s/step - loss: 0.0440 - accuracy: 1.0000 - val_loss: 0.0566 - val_accuracy: 1.0000\n",
      "Epoch 93/100\n",
      "7/7 [==============================] - 147s 23s/step - loss: 0.0528 - accuracy: 1.0000 - val_loss: 0.0553 - val_accuracy: 1.0000\n",
      "Epoch 94/100\n",
      "7/7 [==============================] - 155s 22s/step - loss: 0.0551 - accuracy: 1.0000 - val_loss: 0.0416 - val_accuracy: 1.0000\n",
      "Epoch 95/100\n",
      "7/7 [==============================] - 144s 21s/step - loss: 0.0526 - accuracy: 1.0000 - val_loss: 0.0636 - val_accuracy: 1.0000\n",
      "Epoch 96/100\n",
      "7/7 [==============================] - 158s 23s/step - loss: 0.0446 - accuracy: 1.0000 - val_loss: 0.0676 - val_accuracy: 1.0000\n",
      "Epoch 97/100\n",
      "7/7 [==============================] - 157s 23s/step - loss: 0.0386 - accuracy: 1.0000 - val_loss: 0.0380 - val_accuracy: 1.0000\n",
      "Epoch 98/100\n",
      "7/7 [==============================] - 155s 22s/step - loss: 0.0370 - accuracy: 1.0000 - val_loss: 0.0581 - val_accuracy: 1.0000\n",
      "Epoch 99/100\n",
      "7/7 [==============================] - 156s 23s/step - loss: 0.0439 - accuracy: 1.0000 - val_loss: 0.0402 - val_accuracy: 1.0000\n",
      "Epoch 100/100\n",
      "7/7 [==============================] - 144s 21s/step - loss: 0.0444 - accuracy: 1.0000 - val_loss: 0.0387 - val_accuracy: 1.0000\n"
     ]
    },
    {
     "data": {
      "text/plain": [
       "<keras.callbacks.History at 0x22d47f47a00>"
      ]
     },
     "execution_count": 15,
     "metadata": {},
     "output_type": "execute_result"
    }
   ],
   "source": [
    "data_gen_train = ImageDataGenerator(rescale=1/255.)\n",
    "\n",
    "data_gen_valid = ImageDataGenerator(rescale=1/255.)\n",
    "\n",
    "train_generator = data_gen_train.flow_from_directory(train_path, target_size=(224,224), batch_size=32, class_mode=\"categorical\")\n",
    "\n",
    "valid_generator = data_gen_valid.flow_from_directory(valid_path, target_size=(224,224), batch_size=32, class_mode=\"categorical\")\n",
    "\n",
    "model.fit(train_generator, epochs=100, validation_data=valid_generator,steps_per_epoch = len(train_generator)//3,validation_steps=len(valid_generator)//3)"
   ]
  },
  {
   "cell_type": "code",
   "execution_count": 16,
   "id": "8ac36e47-3e60-48fd-801c-8bd5f32d5dbf",
   "metadata": {
    "tags": []
   },
   "outputs": [],
   "source": [
    "model.save('vgg-16-nail-disease.h5')"
   ]
  },
  {
   "cell_type": "code",
   "execution_count": null,
   "id": "f98b626f-4a2b-40b6-90f0-b9216c3a99bc",
   "metadata": {},
   "outputs": [],
   "source": []
  }
 ],
 "metadata": {
  "kernelspec": {
   "display_name": "Python 3 (ipykernel)",
   "language": "python",
   "name": "python3"
  },
  "language_info": {
   "codemirror_mode": {
    "name": "ipython",
    "version": 3
   },
   "file_extension": ".py",
   "mimetype": "text/x-python",
   "name": "python",
   "nbconvert_exporter": "python",
   "pygments_lexer": "ipython3",
   "version": "3.10.13"
  }
 },
 "nbformat": 4,
 "nbformat_minor": 5
}
